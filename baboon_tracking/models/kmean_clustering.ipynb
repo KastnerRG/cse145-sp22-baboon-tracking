{
 "cells": [
  {
   "cell_type": "code",
   "execution_count": 1,
   "metadata": {},
   "outputs": [],
   "source": [
    "import pandas as pd\n",
    "from pathlib import Path #I highly encourage this library over os.path.join!\n",
    "from sklearn.cluster import KMeans\n",
    "import numpy as np\n",
    "import math\n",
    "import joblib\n"
   ]
  },
  {
   "cell_type": "markdown",
   "metadata": {},
   "source": [
    "## Hyper Parameters"
   ]
  },
  {
   "cell_type": "code",
   "execution_count": 2,
   "metadata": {},
   "outputs": [],
   "source": [
    "num_clusters = 10"
   ]
  },
  {
   "cell_type": "markdown",
   "metadata": {},
   "source": [
    "# Paths "
   ]
  },
  {
   "cell_type": "code",
   "execution_count": 3,
   "metadata": {},
   "outputs": [],
   "source": [
    "#(should change these to the configs in the yaml later on)\n",
    "root = Path('../../')\n",
    "input_velocities_csv = root / \"output/DJI_0870_velocity.csv\"\n"
   ]
  },
  {
   "cell_type": "markdown",
   "metadata": {},
   "source": [
    "# Get the csv into a dataframe"
   ]
  },
  {
   "cell_type": "code",
   "execution_count": 4,
   "metadata": {},
   "outputs": [
    {
     "data": {
      "text/plain": [
       "41"
      ]
     },
     "execution_count": 4,
     "metadata": {},
     "output_type": "execute_result"
    }
   ],
   "source": [
    "velocities_df = pd.read_csv(input_velocities_csv)\n",
    "total_num_of_baboons = velocities_df.loc[velocities_df.shape[0]-1, 'baboon id']\n",
    "total_num_of_baboons"
   ]
  },
  {
   "cell_type": "markdown",
   "metadata": {},
   "source": [
    "## Gets rid of the initial frames with a Nan value. Can skip this when the script is fixed"
   ]
  },
  {
   "cell_type": "code",
   "execution_count": 5,
   "metadata": {},
   "outputs": [],
   "source": [
    "#until velocity code is fixed as to not store nan values\n",
    "\n",
    "        \n",
    "velocities_df = velocities_df.dropna()\n",
    "\n",
    "#sanity check bc df's are busted\n",
    "for idx, row in velocities_df.iterrows():\n",
    "    if math.isnan(row.loc['velocity']):\n",
    "        print(row.loc['velocity'])\n",
    "        velocities_df = velocities_df.drop(velocities_df.index[idx])"
   ]
  },
  {
   "cell_type": "markdown",
   "metadata": {},
   "source": [
    "## Get velocities in np array"
   ]
  },
  {
   "cell_type": "code",
   "execution_count": 6,
   "metadata": {
    "scrolled": true
   },
   "outputs": [],
   "source": [
    "velocities_series = velocities_df.loc[:, 'velocity']\n",
    "velocities = velocities_series.to_numpy()"
   ]
  },
  {
   "cell_type": "markdown",
   "metadata": {},
   "source": [
    "## Take out non moving velocities"
   ]
  },
  {
   "cell_type": "code",
   "execution_count": 7,
   "metadata": {},
   "outputs": [],
   "source": [
    "velocities = velocities[velocities != 0]"
   ]
  },
  {
   "cell_type": "markdown",
   "metadata": {},
   "source": [
    "## Fit the Kmeans model"
   ]
  },
  {
   "cell_type": "code",
   "execution_count": 8,
   "metadata": {},
   "outputs": [
    {
     "data": {
      "text/plain": [
       "array([[  2.03068538],\n",
       "       [ 18.11286133],\n",
       "       [138.87910934],\n",
       "       [ 46.83811424],\n",
       "       [651.7792055 ],\n",
       "       [  6.57495889],\n",
       "       [ 75.97810474],\n",
       "       [326.17139313],\n",
       "       [ 12.41767874],\n",
       "       [ 29.01097895]])"
      ]
     },
     "execution_count": 8,
     "metadata": {},
     "output_type": "execute_result"
    }
   ],
   "source": [
    "kmeans_model = KMeans(n_clusters=num_clusters, random_state=0).fit(velocities.reshape(-1,1))\n",
    "kmeans_model.cluster_centers_ #should be the average of the cluster since it's a 1d model"
   ]
  },
  {
   "cell_type": "code",
   "execution_count": 9,
   "metadata": {},
   "outputs": [
    {
     "data": {
      "text/plain": [
       "['../../output/velocity_model.pkl']"
      ]
     },
     "execution_count": 9,
     "metadata": {},
     "output_type": "execute_result"
    }
   ],
   "source": [
    "joblib.dump(kmeans_model, root / 'output' / 'velocity_model.pkl', compress=9)"
   ]
  },
  {
   "cell_type": "code",
   "execution_count": null,
   "metadata": {},
   "outputs": [],
   "source": []
  }
 ],
 "metadata": {
  "kernelspec": {
   "display_name": "Python 3",
   "language": "python",
   "name": "python3"
  },
  "language_info": {
   "codemirror_mode": {
    "name": "ipython",
    "version": 3
   },
   "file_extension": ".py",
   "mimetype": "text/x-python",
   "name": "python",
   "nbconvert_exporter": "python",
   "pygments_lexer": "ipython3",
   "version": "3.7.4"
  }
 },
 "nbformat": 4,
 "nbformat_minor": 2
}
