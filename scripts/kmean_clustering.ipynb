{
 "cells": [
  {
   "cell_type": "code",
   "execution_count": 50,
   "metadata": {},
   "outputs": [],
   "source": [
    "import pandas as pd\n",
    "from pathlib import Path #I highly encourage this library over os.path.join!\n",
    "from sklearn.cluster import KMeans\n",
    "import numpy as np\n",
    "import math\n"
   ]
  },
  {
   "cell_type": "markdown",
   "metadata": {},
   "source": [
    "## Hyper Parameters"
   ]
  },
  {
   "cell_type": "code",
   "execution_count": 81,
   "metadata": {},
   "outputs": [],
   "source": [
    "num_clusters = 10"
   ]
  },
  {
   "cell_type": "markdown",
   "metadata": {},
   "source": [
    "# Paths "
   ]
  },
  {
   "cell_type": "code",
   "execution_count": 74,
   "metadata": {},
   "outputs": [],
   "source": [
    "#(should change these to the configs in the yaml later on)\n",
    "root = Path('../')\n",
    "input_velocities_csv = root / \"research_data/DJI_0870_velocity.csv\"\n"
   ]
  },
  {
   "cell_type": "markdown",
   "metadata": {},
   "source": [
    "# Get the csv into a dataframe"
   ]
  },
  {
   "cell_type": "code",
   "execution_count": 75,
   "metadata": {},
   "outputs": [
    {
     "data": {
      "text/plain": [
       "41"
      ]
     },
     "execution_count": 75,
     "metadata": {},
     "output_type": "execute_result"
    }
   ],
   "source": [
    "velocities_df = pd.read_csv(input_velocities_csv)\n",
    "total_num_of_baboons = velocities_df.loc[velocities_df.shape[0]-1, 'baboon id']\n",
    "total_num_of_baboons"
   ]
  },
  {
   "cell_type": "markdown",
   "metadata": {},
   "source": [
    "## Gets rid of the initial frames with a Nan value. Can skip this when the script is fixed"
   ]
  },
  {
   "cell_type": "code",
   "execution_count": 119,
   "metadata": {},
   "outputs": [],
   "source": [
    "#until velocity code is fixed as to not store nan values\n",
    "\n",
    "        \n",
    "velocities_df = velocities_df.dropna()\n",
    "\n",
    "for idx, row in velocities_df.iterrows():\n",
    "    if math.isnan(row.loc['velocity']):\n",
    "        print(row.loc['velocity'])\n",
    "        velocities_df = velocities_df.drop(velocities_df.index[idx])"
   ]
  },
  {
   "cell_type": "markdown",
   "metadata": {},
   "source": [
    "## Get velocities in np array"
   ]
  },
  {
   "cell_type": "code",
   "execution_count": 120,
   "metadata": {
    "scrolled": true
   },
   "outputs": [],
   "source": [
    "velocities_series = velocities_df.loc[:, 'velocity']\n",
    "velocities = velocities_series.to_numpy()"
   ]
  },
  {
   "cell_type": "markdown",
   "metadata": {},
   "source": [
    "## Take out non moving velocities"
   ]
  },
  {
   "cell_type": "code",
   "execution_count": 121,
   "metadata": {},
   "outputs": [],
   "source": [
    "velocities = velocities[velocities != 0]"
   ]
  },
  {
   "cell_type": "markdown",
   "metadata": {},
   "source": [
    "## Fit the Kmeans model"
   ]
  },
  {
   "cell_type": "code",
   "execution_count": 123,
   "metadata": {},
   "outputs": [
    {
     "data": {
      "text/plain": [
       "array([[  6.33002495],\n",
       "       [ 28.86203245],\n",
       "       [ 76.02600234],\n",
       "       [326.17139313],\n",
       "       [ 12.06987809],\n",
       "       [ 17.85814514],\n",
       "       [651.7792055 ],\n",
       "       [138.87910934],\n",
       "       [ 46.87038302],\n",
       "       [  1.96214197]])"
      ]
     },
     "execution_count": 123,
     "metadata": {},
     "output_type": "execute_result"
    }
   ],
   "source": [
    "kmeans_model = KMeans(n_clusters=num_clusters, random_state=0).fit(velocities.reshape(-1,1))\n",
    "kmeans_model.cluster_centers_ #should be the average of the cluster since it's a 1d model"
   ]
  },
  {
   "cell_type": "code",
   "execution_count": null,
   "metadata": {},
   "outputs": [],
   "source": []
  }
 ],
 "metadata": {
  "kernelspec": {
   "display_name": "Python 3",
   "language": "python",
   "name": "python3"
  },
  "language_info": {
   "codemirror_mode": {
    "name": "ipython",
    "version": 3
   },
   "file_extension": ".py",
   "mimetype": "text/x-python",
   "name": "python",
   "nbconvert_exporter": "python",
   "pygments_lexer": "ipython3",
   "version": "3.7.4"
  }
 },
 "nbformat": 4,
 "nbformat_minor": 2
}
